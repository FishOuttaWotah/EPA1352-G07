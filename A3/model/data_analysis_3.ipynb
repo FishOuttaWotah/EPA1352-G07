{
  "cells": [
    {
      "cell_type": "code",
      "metadata": {
        "cell_id": "00000-3a945ae0-0ff1-4856-b4e9-b977f2b1c4b2",
        "deepnote_to_be_reexecuted": false,
        "source_hash": "68301009",
        "execution_millis": 1835,
        "execution_start": 1615969008595,
        "deepnote_cell_type": "code"
      },
      "source": "import pandas as pd\nimport numpy as np\nimport seaborn as sns\nimport matplotlib.pyplot as plt",
      "execution_count": 1,
      "outputs": []
    },
    {
      "cell_type": "code",
      "metadata": {
        "cell_id": "00001-c2a7d5b8-3507-4ead-a19f-b73fd9c178fd",
        "deepnote_to_be_reexecuted": false,
        "source_hash": "b2b59a4e",
        "execution_millis": 1391,
        "execution_start": 1615969244135,
        "deepnote_cell_type": "code"
      },
      "source": "# Import datasets from different scenarios\n\ndata_source0 = r'scenario0.csv'\ndata_source1 = r'scenario1.csv'\ndata_source2 = r'scenario2.csv'\ndata_source3 = r'scenario3.csv'\ndata_source4 = r'scenario4.csv'\ndf0 = pd.read_csv(data_source0)\ndf1 = pd.read_csv(data_source1)\ndf2 = pd.read_csv(data_source2)\ndf3 = pd.read_csv(data_source3)\ndf4 = pd.read_csv(data_source4)\n\ndf = pd.concat([df0,df1,df2,df3,df4])\n\ndf['total_time'] = df['end_time'] - df['start_time']\ndf['distance_travelled'] = df['distance_travelled'].div(1000)\ndf['perc_waiting'] = df['total_waiting_time'].mul(1000) / df['total_time']\ndf.head()",
      "execution_count": 2,
      "outputs": [
        {
          "output_type": "execute_result",
          "execution_count": 2,
          "data": {
            "application/vnd.deepnote.dataframe.v2+json": {
              "row_count": 5,
              "column_count": 9,
              "columns": [
                {
                  "name": "scenario_num",
                  "dtype": "int64",
                  "stats": {
                    "unique_count": 1,
                    "nan_count": 0,
                    "min": 0,
                    "max": 0,
                    "histogram": [
                      {
                        "bin_start": -0.5,
                        "bin_end": -0.4,
                        "count": 0
                      },
                      {
                        "bin_start": -0.4,
                        "bin_end": -0.3,
                        "count": 0
                      },
                      {
                        "bin_start": -0.3,
                        "bin_end": -0.19999999999999996,
                        "count": 0
                      },
                      {
                        "bin_start": -0.19999999999999996,
                        "bin_end": -0.09999999999999998,
                        "count": 0
                      },
                      {
                        "bin_start": -0.09999999999999998,
                        "bin_end": 0,
                        "count": 0
                      },
                      {
                        "bin_start": 0,
                        "bin_end": 0.10000000000000009,
                        "count": 5
                      },
                      {
                        "bin_start": 0.10000000000000009,
                        "bin_end": 0.20000000000000007,
                        "count": 0
                      },
                      {
                        "bin_start": 0.20000000000000007,
                        "bin_end": 0.30000000000000004,
                        "count": 0
                      },
                      {
                        "bin_start": 0.30000000000000004,
                        "bin_end": 0.4,
                        "count": 0
                      },
                      {
                        "bin_start": 0.4,
                        "bin_end": 0.5,
                        "count": 0
                      }
                    ]
                  }
                },
                {
                  "name": "Run",
                  "dtype": "int64",
                  "stats": {
                    "unique_count": 1,
                    "nan_count": 0,
                    "min": 0,
                    "max": 0,
                    "histogram": [
                      {
                        "bin_start": -0.5,
                        "bin_end": -0.4,
                        "count": 0
                      },
                      {
                        "bin_start": -0.4,
                        "bin_end": -0.3,
                        "count": 0
                      },
                      {
                        "bin_start": -0.3,
                        "bin_end": -0.19999999999999996,
                        "count": 0
                      },
                      {
                        "bin_start": -0.19999999999999996,
                        "bin_end": -0.09999999999999998,
                        "count": 0
                      },
                      {
                        "bin_start": -0.09999999999999998,
                        "bin_end": 0,
                        "count": 0
                      },
                      {
                        "bin_start": 0,
                        "bin_end": 0.10000000000000009,
                        "count": 5
                      },
                      {
                        "bin_start": 0.10000000000000009,
                        "bin_end": 0.20000000000000007,
                        "count": 0
                      },
                      {
                        "bin_start": 0.20000000000000007,
                        "bin_end": 0.30000000000000004,
                        "count": 0
                      },
                      {
                        "bin_start": 0.30000000000000004,
                        "bin_end": 0.4,
                        "count": 0
                      },
                      {
                        "bin_start": 0.4,
                        "bin_end": 0.5,
                        "count": 0
                      }
                    ]
                  }
                },
                {
                  "name": "truck_id",
                  "dtype": "object",
                  "stats": {
                    "unique_count": 5,
                    "nan_count": 0,
                    "categories": [
                      {
                        "name": "50SourceSink1002774",
                        "count": 1
                      },
                      {
                        "name": "62SourceSink1002488",
                        "count": 1
                      },
                      {
                        "name": "3 others",
                        "count": 3
                      }
                    ]
                  }
                },
                {
                  "name": "start_time",
                  "dtype": "int64",
                  "stats": {
                    "unique_count": 5,
                    "nan_count": 0,
                    "min": 10,
                    "max": 30,
                    "histogram": [
                      {
                        "bin_start": 10,
                        "bin_end": 12,
                        "count": 1
                      },
                      {
                        "bin_start": 12,
                        "bin_end": 14,
                        "count": 0
                      },
                      {
                        "bin_start": 14,
                        "bin_end": 16,
                        "count": 1
                      },
                      {
                        "bin_start": 16,
                        "bin_end": 18,
                        "count": 0
                      },
                      {
                        "bin_start": 18,
                        "bin_end": 20,
                        "count": 0
                      },
                      {
                        "bin_start": 20,
                        "bin_end": 22,
                        "count": 1
                      },
                      {
                        "bin_start": 22,
                        "bin_end": 24,
                        "count": 0
                      },
                      {
                        "bin_start": 24,
                        "bin_end": 26,
                        "count": 1
                      },
                      {
                        "bin_start": 26,
                        "bin_end": 28,
                        "count": 0
                      },
                      {
                        "bin_start": 28,
                        "bin_end": 30,
                        "count": 1
                      }
                    ]
                  }
                },
                {
                  "name": "end_time",
                  "dtype": "int64",
                  "stats": {
                    "unique_count": 5,
                    "nan_count": 0,
                    "min": 14,
                    "max": 37,
                    "histogram": [
                      {
                        "bin_start": 14,
                        "bin_end": 16.3,
                        "count": 1
                      },
                      {
                        "bin_start": 16.3,
                        "bin_end": 18.6,
                        "count": 0
                      },
                      {
                        "bin_start": 18.6,
                        "bin_end": 20.9,
                        "count": 0
                      },
                      {
                        "bin_start": 20.9,
                        "bin_end": 23.2,
                        "count": 1
                      },
                      {
                        "bin_start": 23.2,
                        "bin_end": 25.5,
                        "count": 0
                      },
                      {
                        "bin_start": 25.5,
                        "bin_end": 27.799999999999997,
                        "count": 1
                      },
                      {
                        "bin_start": 27.799999999999997,
                        "bin_end": 30.099999999999998,
                        "count": 1
                      },
                      {
                        "bin_start": 30.099999999999998,
                        "bin_end": 32.4,
                        "count": 0
                      },
                      {
                        "bin_start": 32.4,
                        "bin_end": 34.7,
                        "count": 0
                      },
                      {
                        "bin_start": 34.7,
                        "bin_end": 37,
                        "count": 1
                      }
                    ]
                  }
                },
                {
                  "name": "total_waiting_time",
                  "dtype": "float64",
                  "stats": {
                    "unique_count": 1,
                    "nan_count": 0,
                    "min": 0,
                    "max": 0,
                    "histogram": [
                      {
                        "bin_start": -0.5,
                        "bin_end": -0.4,
                        "count": 0
                      },
                      {
                        "bin_start": -0.4,
                        "bin_end": -0.3,
                        "count": 0
                      },
                      {
                        "bin_start": -0.3,
                        "bin_end": -0.19999999999999996,
                        "count": 0
                      },
                      {
                        "bin_start": -0.19999999999999996,
                        "bin_end": -0.09999999999999998,
                        "count": 0
                      },
                      {
                        "bin_start": -0.09999999999999998,
                        "bin_end": 0,
                        "count": 0
                      },
                      {
                        "bin_start": 0,
                        "bin_end": 0.10000000000000009,
                        "count": 5
                      },
                      {
                        "bin_start": 0.10000000000000009,
                        "bin_end": 0.20000000000000007,
                        "count": 0
                      },
                      {
                        "bin_start": 0.20000000000000007,
                        "bin_end": 0.30000000000000004,
                        "count": 0
                      },
                      {
                        "bin_start": 0.30000000000000004,
                        "bin_end": 0.4,
                        "count": 0
                      },
                      {
                        "bin_start": 0.4,
                        "bin_end": 0.5,
                        "count": 0
                      }
                    ]
                  }
                },
                {
                  "name": "distance_travelled",
                  "dtype": "float64",
                  "stats": {
                    "unique_count": 5,
                    "nan_count": 0,
                    "min": 35.78,
                    "max": 116.373,
                    "histogram": [
                      {
                        "bin_start": 35.78,
                        "bin_end": 43.8393,
                        "count": 1
                      },
                      {
                        "bin_start": 43.8393,
                        "bin_end": 51.8986,
                        "count": 0
                      },
                      {
                        "bin_start": 51.8986,
                        "bin_end": 59.9579,
                        "count": 0
                      },
                      {
                        "bin_start": 59.9579,
                        "bin_end": 68.0172,
                        "count": 0
                      },
                      {
                        "bin_start": 68.0172,
                        "bin_end": 76.07650000000001,
                        "count": 0
                      },
                      {
                        "bin_start": 76.07650000000001,
                        "bin_end": 84.1358,
                        "count": 0
                      },
                      {
                        "bin_start": 84.1358,
                        "bin_end": 92.1951,
                        "count": 2
                      },
                      {
                        "bin_start": 92.1951,
                        "bin_end": 100.2544,
                        "count": 0
                      },
                      {
                        "bin_start": 100.2544,
                        "bin_end": 108.31370000000001,
                        "count": 1
                      },
                      {
                        "bin_start": 108.31370000000001,
                        "bin_end": 116.373,
                        "count": 1
                      }
                    ]
                  }
                },
                {
                  "name": "total_time",
                  "dtype": "int64",
                  "stats": {
                    "unique_count": 5,
                    "nan_count": 0,
                    "min": 4,
                    "max": 8,
                    "histogram": [
                      {
                        "bin_start": 4,
                        "bin_end": 4.4,
                        "count": 1
                      },
                      {
                        "bin_start": 4.4,
                        "bin_end": 4.8,
                        "count": 0
                      },
                      {
                        "bin_start": 4.8,
                        "bin_end": 5.2,
                        "count": 1
                      },
                      {
                        "bin_start": 5.2,
                        "bin_end": 5.6,
                        "count": 0
                      },
                      {
                        "bin_start": 5.6,
                        "bin_end": 6,
                        "count": 0
                      },
                      {
                        "bin_start": 6,
                        "bin_end": 6.4,
                        "count": 1
                      },
                      {
                        "bin_start": 6.4,
                        "bin_end": 6.800000000000001,
                        "count": 0
                      },
                      {
                        "bin_start": 6.800000000000001,
                        "bin_end": 7.2,
                        "count": 1
                      },
                      {
                        "bin_start": 7.2,
                        "bin_end": 7.6,
                        "count": 0
                      },
                      {
                        "bin_start": 7.6,
                        "bin_end": 8,
                        "count": 1
                      }
                    ]
                  }
                },
                {
                  "name": "perc_waiting",
                  "dtype": "float64",
                  "stats": {
                    "unique_count": 1,
                    "nan_count": 0,
                    "min": 0,
                    "max": 0,
                    "histogram": [
                      {
                        "bin_start": -0.5,
                        "bin_end": -0.4,
                        "count": 0
                      },
                      {
                        "bin_start": -0.4,
                        "bin_end": -0.3,
                        "count": 0
                      },
                      {
                        "bin_start": -0.3,
                        "bin_end": -0.19999999999999996,
                        "count": 0
                      },
                      {
                        "bin_start": -0.19999999999999996,
                        "bin_end": -0.09999999999999998,
                        "count": 0
                      },
                      {
                        "bin_start": -0.09999999999999998,
                        "bin_end": 0,
                        "count": 0
                      },
                      {
                        "bin_start": 0,
                        "bin_end": 0.10000000000000009,
                        "count": 5
                      },
                      {
                        "bin_start": 0.10000000000000009,
                        "bin_end": 0.20000000000000007,
                        "count": 0
                      },
                      {
                        "bin_start": 0.20000000000000007,
                        "bin_end": 0.30000000000000004,
                        "count": 0
                      },
                      {
                        "bin_start": 0.30000000000000004,
                        "bin_end": 0.4,
                        "count": 0
                      },
                      {
                        "bin_start": 0.4,
                        "bin_end": 0.5,
                        "count": 0
                      }
                    ]
                  }
                },
                {
                  "name": "_deepnote_index_column",
                  "dtype": "int64"
                }
              ],
              "rows_top": [
                {
                  "scenario_num": 0,
                  "Run": 0,
                  "truck_id": "50SourceSink1002774",
                  "start_time": 10,
                  "end_time": 14,
                  "total_waiting_time": 0,
                  "distance_travelled": 105.451,
                  "total_time": 4,
                  "perc_waiting": 0,
                  "_deepnote_index_column": 0
                },
                {
                  "scenario_num": 0,
                  "Run": 0,
                  "truck_id": "62SourceSink1002488",
                  "start_time": 15,
                  "end_time": 23,
                  "total_waiting_time": 0,
                  "distance_travelled": 116.373,
                  "total_time": 8,
                  "perc_waiting": 0,
                  "_deepnote_index_column": 1
                },
                {
                  "scenario_num": 0,
                  "Run": 0,
                  "truck_id": "76SourceSink1002165",
                  "start_time": 20,
                  "end_time": 26,
                  "total_waiting_time": 0,
                  "distance_travelled": 35.78,
                  "total_time": 6,
                  "perc_waiting": 0,
                  "_deepnote_index_column": 2
                },
                {
                  "scenario_num": 0,
                  "Run": 0,
                  "truck_id": "105SourceSink1003073",
                  "start_time": 25,
                  "end_time": 30,
                  "total_waiting_time": 0,
                  "distance_travelled": 90.161,
                  "total_time": 5,
                  "perc_waiting": 0,
                  "_deepnote_index_column": 3
                },
                {
                  "scenario_num": 0,
                  "Run": 0,
                  "truck_id": "115SourceSink1002393",
                  "start_time": 30,
                  "end_time": 37,
                  "total_waiting_time": 0,
                  "distance_travelled": 85.044,
                  "total_time": 7,
                  "perc_waiting": 0,
                  "_deepnote_index_column": 4
                }
              ],
              "rows_bottom": null
            },
            "text/plain": "   scenario_num  Run              truck_id  start_time  end_time  \\\n0             0    0   50SourceSink1002774          10        14   \n1             0    0   62SourceSink1002488          15        23   \n2             0    0   76SourceSink1002165          20        26   \n3             0    0  105SourceSink1003073          25        30   \n4             0    0  115SourceSink1002393          30        37   \n\n   total_waiting_time  distance_travelled  total_time  perc_waiting  \n0                 0.0             105.451           4           0.0  \n1                 0.0             116.373           8           0.0  \n2                 0.0              35.780           6           0.0  \n3                 0.0              90.161           5           0.0  \n4                 0.0              85.044           7           0.0  ",
            "text/html": "<div>\n<style scoped>\n    .dataframe tbody tr th:only-of-type {\n        vertical-align: middle;\n    }\n\n    .dataframe tbody tr th {\n        vertical-align: top;\n    }\n\n    .dataframe thead th {\n        text-align: right;\n    }\n</style>\n<table border=\"1\" class=\"dataframe\">\n  <thead>\n    <tr style=\"text-align: right;\">\n      <th></th>\n      <th>scenario_num</th>\n      <th>Run</th>\n      <th>truck_id</th>\n      <th>start_time</th>\n      <th>end_time</th>\n      <th>total_waiting_time</th>\n      <th>distance_travelled</th>\n      <th>total_time</th>\n      <th>perc_waiting</th>\n    </tr>\n  </thead>\n  <tbody>\n    <tr>\n      <th>0</th>\n      <td>0</td>\n      <td>0</td>\n      <td>50SourceSink1002774</td>\n      <td>10</td>\n      <td>14</td>\n      <td>0.0</td>\n      <td>105.451</td>\n      <td>4</td>\n      <td>0.0</td>\n    </tr>\n    <tr>\n      <th>1</th>\n      <td>0</td>\n      <td>0</td>\n      <td>62SourceSink1002488</td>\n      <td>15</td>\n      <td>23</td>\n      <td>0.0</td>\n      <td>116.373</td>\n      <td>8</td>\n      <td>0.0</td>\n    </tr>\n    <tr>\n      <th>2</th>\n      <td>0</td>\n      <td>0</td>\n      <td>76SourceSink1002165</td>\n      <td>20</td>\n      <td>26</td>\n      <td>0.0</td>\n      <td>35.780</td>\n      <td>6</td>\n      <td>0.0</td>\n    </tr>\n    <tr>\n      <th>3</th>\n      <td>0</td>\n      <td>0</td>\n      <td>105SourceSink1003073</td>\n      <td>25</td>\n      <td>30</td>\n      <td>0.0</td>\n      <td>90.161</td>\n      <td>5</td>\n      <td>0.0</td>\n    </tr>\n    <tr>\n      <th>4</th>\n      <td>0</td>\n      <td>0</td>\n      <td>115SourceSink1002393</td>\n      <td>30</td>\n      <td>37</td>\n      <td>0.0</td>\n      <td>85.044</td>\n      <td>7</td>\n      <td>0.0</td>\n    </tr>\n  </tbody>\n</table>\n</div>"
          },
          "metadata": {}
        }
      ]
    },
    {
      "cell_type": "code",
      "metadata": {
        "cell_id": "00002-8a9d7fd6-8d17-4bce-8a1c-a1a4a414e346",
        "deepnote_to_be_reexecuted": false,
        "source_hash": "f116c782",
        "execution_millis": 313,
        "execution_start": 1615969301977,
        "deepnote_cell_type": "code"
      },
      "source": "# Travel time, each scenario\nsns.set_style(\"darkgrid\")\nplt.figure(figsize=(5, 6))\nplt.title('Distribution of time taken for trucks in scenarios 0-4')\nax = sns.boxplot(x=\"scenario_num\", y=\"total_time\", data=df)\nax.set_xlabel('Scenario')\nax.set_ylabel('Travel time [min]')",
      "execution_count": 8,
      "outputs": [
        {
          "output_type": "execute_result",
          "execution_count": 8,
          "data": {
            "text/plain": "Text(0, 0.5, 'Travel time [min]')"
          },
          "metadata": {}
        },
        {
          "data": {
            "text/plain": "<Figure size 360x432 with 1 Axes>",
            "image/png": "[encoded data removed]"
          },
          "metadata": {},
          "output_type": "display_data"
        }
      ]
    },
    {
      "cell_type": "code",
      "metadata": {
        "tags": [],
        "cell_id": "00003-5b2e90d3-48ce-48ac-a908-0e3d69dbc656",
        "deepnote_to_be_reexecuted": false,
        "source_hash": "36bb4674",
        "execution_start": 1615969386589,
        "execution_millis": 274,
        "deepnote_cell_type": "code"
      },
      "source": "# Travel time, each scenario\nsns.set_style(\"darkgrid\")\nplt.figure(figsize=(6, 6))\nplt.title('Distribution of distance travelled in scenarios 0-4')\nax = sns.boxplot(x=\"scenario_num\", y=\"distance_travelled\", data=df)\nax.set_xlabel('Scenario')\nax.set_ylabel('Travel time [min]')",
      "execution_count": 9,
      "outputs": [
        {
          "output_type": "execute_result",
          "execution_count": 9,
          "data": {
            "text/plain": "Text(0, 0.5, 'Travel time [min]')"
          },
          "metadata": {}
        },
        {
          "data": {
            "text/plain": "<Figure size 432x432 with 1 Axes>",
            "image/png": "[encoded data removed]"
          },
          "metadata": {},
          "output_type": "display_data"
        }
      ]
    },
    {
      "cell_type": "code",
      "metadata": {
        "tags": [],
        "cell_id": "00004-f8dc8fc6-f24b-498e-ab9f-4c8cf6135827",
        "deepnote_cell_type": "code"
      },
      "source": "sns.set_style(\"darkgrid\")\nplt.figure(figsize=(6, 6))\nplt.title('Travel delay per scenario')\nax = sns.boxplot(x=\"scenario_num\", y=\"distance_travelled\", data=df)\nax.set_xlabel('Scenario')\nax.set_ylabel('Travel time [min]')",
      "execution_count": null,
      "outputs": []
    },
    {
      "cell_type": "code",
      "metadata": {
        "cell_id": "00003-d33fde6b-1e75-4291-8f91-6fa83b64d87c",
        "deepnote_to_be_reexecuted": false,
        "source_hash": "dc9064d1",
        "execution_millis": 183,
        "execution_start": 1615969627245,
        "deepnote_cell_type": "code"
      },
      "source": "s1_df = df[df['scenario_num'] == 0]\nplt.figure(figsize=(3, 8))\nplt.title('Distribution of travel time in scenario 0')\nax1 = sns.boxplot(x=\"scenario_num\", y=\"total_time\", data=s1_df)\nax1.set_xlabel('Scenario')\nax1.set_ylabel('Travel time [min]')",
      "execution_count": 12,
      "outputs": [
        {
          "output_type": "execute_result",
          "execution_count": 12,
          "data": {
            "text/plain": "Text(0, 0.5, 'Travel time [min]')"
          },
          "metadata": {}
        },
        {
          "data": {
            "text/plain": "<Figure size 216x576 with 1 Axes>",
            "image/png": "[encoded data removed]"
          },
          "metadata": {},
          "output_type": "display_data"
        }
      ]
    },
    {
      "cell_type": "code",
      "metadata": {
        "tags": [],
        "cell_id": "00004-ba02f7ce-9b8e-4b12-893c-500b982c240d",
        "deepnote_to_be_reexecuted": false,
        "source_hash": "51f3c216",
        "execution_millis": 170,
        "execution_start": 1615969616313,
        "deepnote_cell_type": "code"
      },
      "source": "plt.figure(figsize=(3, 7))\nplt.title('Distribution of travel distance in scenario 0')\nax1 = sns.boxplot(x=\"scenario_num\", y=\"distance_travelled\", data=s1_df)\nax1.set_xlabel('Scenario')\nax1.set_ylabel('Travel distance [km]')",
      "execution_count": 11,
      "outputs": [
        {
          "output_type": "execute_result",
          "execution_count": 11,
          "data": {
            "text/plain": "Text(0, 0.5, 'Travel distance [km]')"
          },
          "metadata": {}
        },
        {
          "data": {
            "text/plain": "<Figure size 216x504 with 1 Axes>",
            "image/png": "[encoded data removed]"
          },
          "metadata": {},
          "output_type": "display_data"
        }
      ]
    },
    {
      "cell_type": "code",
      "source": "",
      "metadata": {
        "tags": [],
        "cell_id": "00007-8281e31c-dd4f-4888-9bf8-d2f7a5f6b55e",
        "deepnote_to_be_reexecuted": false,
        "source_hash": "87741d8b",
        "execution_millis": 3,
        "execution_start": 1615969819006,
        "deepnote_cell_type": "code"
      },
      "outputs": [
        {
          "output_type": "error",
          "ename": "AttributeError",
          "evalue": "'DataFrameGroupBy' object has no attribute 'reset_index'",
          "traceback": [
            "\u001b[0;31m---------------------------------------------------------------------------\u001b[0m",
            "\u001b[0;31mAttributeError\u001b[0m                            Traceback (most recent call last)",
            "\u001b[0;32m<ipython-input-16-3a48f557f3a5>\u001b[0m in \u001b[0;36m<module>\u001b[0;34m\u001b[0m\n\u001b[1;32m      1\u001b[0m \u001b[0mgroup\u001b[0m \u001b[0;34m=\u001b[0m \u001b[0mdf\u001b[0m\u001b[0;34m.\u001b[0m\u001b[0mgroupby\u001b[0m\u001b[0;34m(\u001b[0m\u001b[0;34m'scenario_num'\u001b[0m\u001b[0;34m)\u001b[0m\u001b[0;34m\u001b[0m\u001b[0;34m\u001b[0m\u001b[0m\n\u001b[0;32m----> 2\u001b[0;31m \u001b[0mgroup\u001b[0m\u001b[0;34m.\u001b[0m\u001b[0mreset_index\u001b[0m\u001b[0;34m(\u001b[0m\u001b[0minplace\u001b[0m\u001b[0;34m=\u001b[0m\u001b[0;32mTrue\u001b[0m\u001b[0;34m)\u001b[0m\u001b[0;34m\u001b[0m\u001b[0;34m\u001b[0m\u001b[0m\n\u001b[0m\u001b[1;32m      3\u001b[0m \u001b[0mgroup\u001b[0m\u001b[0;34m\u001b[0m\u001b[0;34m\u001b[0m\u001b[0m\n",
            "\u001b[0;32m/shared-libs/python3.7/py/lib/python3.7/site-packages/pandas/core/groupby/groupby.py\u001b[0m in \u001b[0;36m__getattr__\u001b[0;34m(self, attr)\u001b[0m\n\u001b[1;32m    751\u001b[0m \u001b[0;34m\u001b[0m\u001b[0m\n\u001b[1;32m    752\u001b[0m         raise AttributeError(\n\u001b[0;32m--> 753\u001b[0;31m             \u001b[0;34mf\"'{type(self).__name__}' object has no attribute '{attr}'\"\u001b[0m\u001b[0;34m\u001b[0m\u001b[0;34m\u001b[0m\u001b[0m\n\u001b[0m\u001b[1;32m    754\u001b[0m         )\n\u001b[1;32m    755\u001b[0m \u001b[0;34m\u001b[0m\u001b[0m\n",
            "\u001b[0;31mAttributeError\u001b[0m: 'DataFrameGroupBy' object has no attribute 'reset_index'"
          ]
        }
      ],
      "execution_count": 16
    },
    {
      "cell_type": "code",
      "metadata": {
        "tags": [],
        "cell_id": "00004-fceb18df-9683-4b29-b6ac-3acc5b9b0289",
        "deepnote_to_be_reexecuted": false,
        "source_hash": "6a9ff312",
        "execution_millis": 603,
        "execution_start": 1615969915721,
        "deepnote_cell_type": "code"
      },
      "source": "# Relationship time-distance, scenario 0\nplt.figure(figsize=(7,7))\nplt.title('Travelled distance vs. travel time; in scenario 0')\nax1 = sns.scatterplot(data=df[df['scenario_num'] == 0],\nx=\"distance_travelled\",y=\"total_time\")\nax1.set_xlabel('Travel distance [km]');\nax1.set_ylabel('Travel time [min]');",
      "execution_count": 19,
      "outputs": [
        {
          "data": {
            "text/plain": "<Figure size 504x504 with 1 Axes>",
            "image/png": "[encoded data removed]"
          },
          "metadata": {},
          "output_type": "display_data"
        }
      ]
    },
    {
      "cell_type": "code",
      "source": "# Relationship time-distance, all scenarios\nsns.color_palette(\"Set2\")\nplt.figure(figsize=(7,7))\nplt.title('Travelled distance vs. travel time; in scenario 0')\nax1 = sns.scatterplot(data=df,\n    x=\"distance_travelled\",y=\"total_time\", hue=\"scenario_num\")\nax1.set_xlabel('Travel distance [km]');\nax1.set_ylabel('Travel time [min]');\nplt.legend('')",
      "metadata": {
        "tags": [],
        "cell_id": "00009-0e3ece6f-2215-4644-85bc-b8bedbfec436",
        "deepnote_to_be_reexecuted": false,
        "source_hash": "9455cbab",
        "execution_millis": 29700,
        "execution_start": 1615970240038,
        "deepnote_cell_type": "code"
      },
      "outputs": [],
      "execution_count": 23
    },
    {
      "cell_type": "code",
      "metadata": {
        "cell_id": "00004-1e111574-fbe8-419b-b272-a209647ef3ac",
        "deepnote_cell_type": "code"
      },
      "source": "s8_df = df[df['scenario_num'] == 8]\nplt.figure(figsize=(5, 5))\nplt.title('Distribution of time taken for trucks in scenarios 8')\nax1 = sns.boxplot(x=\"scenario_num\", y=\"total_time\", data=s8_df)",
      "execution_count": null,
      "outputs": [
        {
          "data": {
            "image/png": "[encoded data removed]",
            "text/plain": "<Figure size 360x360 with 1 Axes>"
          },
          "metadata": {},
          "output_type": "display_data"
        }
      ]
    },
    {
      "cell_type": "code",
      "metadata": {
        "cell_id": "00005-47c8373e-dace-4f79-bd64-70d5794487ce",
        "deepnote_cell_type": "code"
      },
      "source": "plt.figure(figsize=(5, 5))\nplt.title('Distribution of time taken for trucks in runs 0-9 in scenario 1')\nax = sns.boxplot(x=\"Run\", y=\"total_time\", data=s1_df)",
      "execution_count": null,
      "outputs": [
        {
          "data": {
            "image/png": "[encoded data removed]",
            "text/plain": "<Figure size 360x360 with 1 Axes>"
          },
          "metadata": {},
          "output_type": "display_data"
        }
      ]
    },
    {
      "cell_type": "code",
      "metadata": {
        "cell_id": "00006-a69e0e3a-f3af-48c9-835c-b80fb9ae44ba",
        "deepnote_cell_type": "code"
      },
      "source": "plt.figure(figsize=(5, 5))\nplt.title('Distribution of time taken for trucks in runs 0-9 in scenario 8')\nax = sns.boxplot(x=\"Run\", y=\"total_time\", data=s8_df)",
      "execution_count": null,
      "outputs": [
        {
          "data": {
            "image/png": "[encoded data removed]",
            "text/plain": "<Figure size 360x360 with 1 Axes>"
          },
          "metadata": {},
          "output_type": "display_data"
        }
      ]
    },
    {
      "cell_type": "code",
      "metadata": {
        "cell_id": "00007-971cc5ff-0532-47f3-99f6-fe95bd833917",
        "deepnote_cell_type": "code"
      },
      "source": "",
      "execution_count": null,
      "outputs": []
    },
    {
      "cell_type": "code",
      "metadata": {
        "cell_id": "00008-544f03e3-bae7-4f7c-b204-3890d8ec508a",
        "deepnote_cell_type": "code"
      },
      "source": "",
      "execution_count": null,
      "outputs": []
    },
    {
      "cell_type": "markdown",
      "source": "<a style='text-decoration:none;line-height:16px;display:flex;color:#5B5B62;padding:10px;justify-content:end;' href='https://deepnote.com?utm_source=created-in-deepnote-cell&projectId=f76de7d5-65cc-4574-b52d-ba831fb1e588' target=\"_blank\">\n<img style='display:inline;max-height:16px;margin:0px;margin-right:7.5px;' src='data:image/svg+xml;base64,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' > </img>\nCreated in <span style='font-weight:600;margin-left:4px;'>Deepnote</span></a>",
      "metadata": {
        "tags": [],
        "created_in_deepnote_cell": true,
        "deepnote_cell_type": "markdown"
      }
    }
  ],
  "nbformat": 4,
  "nbformat_minor": 4,
  "metadata": {
    "kernelspec": {
      "display_name": "Python 3",
      "language": "python",
      "name": "python3"
    },
    "language_info": {
      "codemirror_mode": {
        "name": "ipython",
        "version": 3
      },
      "file_extension": ".py",
      "mimetype": "text/x-python",
      "name": "python",
      "nbconvert_exporter": "python",
      "pygments_lexer": "ipython3",
      "version": "3.7.8"
    },
    "deepnote_notebook_id": "e3c76fdf-d733-4e5c-bc6f-a8cc42adfca6",
    "deepnote": {},
    "deepnote_execution_queue": []
  }
}